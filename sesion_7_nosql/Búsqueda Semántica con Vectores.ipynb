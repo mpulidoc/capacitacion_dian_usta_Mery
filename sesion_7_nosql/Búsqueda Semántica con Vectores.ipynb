{
 "cells": [
  {
   "cell_type": "markdown",
   "metadata": {
    "application/vnd.databricks.v1+cell": {
     "cellMetadata": {
      "byteLimit": 2048000,
      "rowLimit": 10000
     },
     "inputWidgets": {},
     "nuid": "b0401569-4955-4868-82a3-13e38371f589",
     "showTitle": false,
     "tableResultSettingsMap": {},
     "title": ""
    }
   },
   "source": [
    "# Título: Sección 4 - Búsqueda Semántica con Vectores (El Cerebro de IA)\n",
    "\n",
    "**Objetivo:** Implementar un motor de búsqueda semántica de extremo a extremo dentro de Databricks. Utilizaremos el SDK de OpenAI para comunicarnos con nuestro endpoint de embeddings (`databricks-gte-large-en`), convertiremos texto en vectores y finalmente usaremos Databricks Vector Search para realizar búsquedas por significado.\n",
    "\n",
    "**Fases del Taller:**\n",
    "1.  **Entender la Limitación:** Veremos por qué la búsqueda tradicional con `LIKE` es insuficiente.\n",
    "2.  **Generar Embeddings:** Usaremos el SDK de OpenAI para convertir texto en vectores de forma profesional.\n",
    "3.  **Indexar Vectores:** Crearemos un índice de búsqueda vectorial optimizado.\n",
    "4.  **Realizar Búsquedas Semánticas:** Haremos preguntas en español y obtendremos resultados contextualmente relevantes."
   ]
  },
  {
   "cell_type": "markdown",
   "metadata": {
    "application/vnd.databricks.v1+cell": {
     "cellMetadata": {
      "byteLimit": 2048000,
      "rowLimit": 10000
     },
     "inputWidgets": {},
     "nuid": "54f41605-6df3-4773-965b-005c8dc7e3a0",
     "showTitle": false,
     "tableResultSettingsMap": {},
     "title": ""
    }
   },
   "source": [
    "### Parte 1: El Problema con la Búsqueda Tradicional\n",
    "\n",
    "La búsqueda por palabras clave con el operador `LIKE` es frágil. Si buscas \"delincuencia\", no encontrará un artículo que hable de \"criminalidad\" o \"inseguridad\". Es una búsqueda de coincidencias exactas de texto, no de ideas."
   ]
  },
  {
   "cell_type": "code",
   "execution_count": 0,
   "metadata": {
    "application/vnd.databricks.v1+cell": {
     "cellMetadata": {
      "byteLimit": 2048000,
      "implicitDf": true,
      "rowLimit": 10000
     },
     "inputWidgets": {},
     "nuid": "351c29b2-9b67-40e6-bee3-c90d803f7e32",
     "showTitle": false,
     "tableResultSettingsMap": {},
     "title": ""
    }
   },
   "outputs": [],
   "source": [
    "%sql\n",
    "-- Demostración 1: Búsqueda por la palabra \"criminalidad\"\n",
    "-- Esta consulta solo encontrará artículos que contengan exactamente esa cadena de texto.\n",
    "\n",
    "USE curso_arquitecturas;\n",
    "\n",
    "SELECT titulo, info FROM noticias_silver\n",
    "WHERE lower(contenido) LIKE '%criminalidad%'\n",
    "LIMIT 2;"
   ]
  },
  {
   "cell_type": "code",
   "execution_count": 0,
   "metadata": {
    "application/vnd.databricks.v1+cell": {
     "cellMetadata": {
      "byteLimit": 2048000,
      "implicitDf": true,
      "rowLimit": 10000
     },
     "inputWidgets": {},
     "nuid": "7d2ef663-8fe9-46dc-b540-401a70b305ea",
     "showTitle": false,
     "tableResultSettingsMap": {},
     "title": ""
    }
   },
   "outputs": [],
   "source": [
    "%sql\n",
    "-- Demostración 2: Búsqueda por la palabra \"delincuencia\"\n",
    "-- Nota: Es probable que devuelva un conjunto de resultados completamente diferente,\n",
    "-- aunque la intención del usuario sea muy similar a la anterior.\n",
    "\n",
    "SELECT titulo, info FROM noticias_silver\n",
    "WHERE lower(contenido) LIKE '%delincuencia%'\n",
    "LIMIT 2;"
   ]
  },
  {
   "cell_type": "markdown",
   "metadata": {
    "application/vnd.databricks.v1+cell": {
     "cellMetadata": {
      "byteLimit": 2048000,
      "rowLimit": 10000
     },
     "inputWidgets": {},
     "nuid": "fe2d2565-1986-45fb-b7c3-b178cbf79f2e",
     "showTitle": false,
     "tableResultSettingsMap": {},
     "title": ""
    }
   },
   "source": [
    "### Parte 2: La Solución - Búsqueda por Significado (Semántica)\n",
    "\n",
    "La búsqueda semántica resuelve este problema. No busca palabras, busca **significado**. Esto se logra mediante una tecnología llamada **Embeddings Vectoriales**.\n",
    "\n",
    "**Analogía:** Piensa en los colores. Podemos representar el \"rojo\" con el vector `[255, 0, 0]` y un \"rojo anaranjado\" con `[255, 69, 0]`. Estos vectores son numéricamente muy cercanos, al igual que los colores. Los embeddings hacen lo mismo pero con el \"significado\" del texto."
   ]
  },
  {
   "cell_type": "markdown",
   "metadata": {
    "application/vnd.databricks.v1+cell": {
     "cellMetadata": {
      "byteLimit": 2048000,
      "rowLimit": 10000
     },
     "inputWidgets": {},
     "nuid": "aae8d21b-af37-43c5-a6d9-06d2d92d27be",
     "showTitle": false,
     "tableResultSettingsMap": {},
     "title": ""
    }
   },
   "source": [
    "#### ¿Qué es un Embedding Vectorial?\n",
    "\n",
    "Un embedding es una serie de números (un **vector**) que representa un fragmento de texto en un espacio matemático de alta dimensión. Es generado por un modelo de IA (un Modelo de Lenguaje Grande) que ha sido entrenado para entender las relaciones semánticas entre palabras y frases."
   ]
  },
  {
   "cell_type": "markdown",
   "metadata": {
    "application/vnd.databricks.v1+cell": {
     "cellMetadata": {
      "byteLimit": 2048000,
      "rowLimit": 10000
     },
     "inputWidgets": {},
     "nuid": "fec5d440-6587-4b0d-9a67-cd9bec87e103",
     "showTitle": false,
     "tableResultSettingsMap": {},
     "title": ""
    }
   },
   "source": [
    "#### Nuestra Plataforma: Databricks Vector Search\n",
    "\n",
    "Databricks Vector Search es una base de datos vectorial integrada y sin servidor. Se encarga de todo el trabajo pesado:\n",
    "* Almacena los vectores de manera eficiente.\n",
    "* Crea un índice optimizado para búsquedas de similitud ultra rápidas.\n",
    "* Se actualiza automáticamente a medida que los datos en nuestra tabla Delta cambian."
   ]
  },
  {
   "cell_type": "markdown",
   "metadata": {
    "application/vnd.databricks.v1+cell": {
     "cellMetadata": {
      "byteLimit": 2048000,
      "rowLimit": 10000
     },
     "inputWidgets": {},
     "nuid": "32c61286-5288-4004-b404-40120e42d261",
     "showTitle": false,
     "tableResultSettingsMap": {},
     "title": ""
    }
   },
   "source": [
    "### Paso 1: Preparar el Entorno\n",
    "\n",
    "Para usar Databricks Vector Search, necesitamos dos prerequisitos:\n",
    "1.  **Unity Catalog Habilitado:** Para la gobernanza de datos.\n",
    "2.  **Un Endpoint de Model Serving:** Es el recurso de cómputo que alojará nuestro índice vectorial."
   ]
  },
  {
   "cell_type": "code",
   "execution_count": 0,
   "metadata": {
    "application/vnd.databricks.v1+cell": {
     "cellMetadata": {
      "byteLimit": 2048000,
      "implicitDf": true,
      "rowLimit": 10000
     },
     "inputWidgets": {},
     "nuid": "ad5011cc-d8e5-42a6-8f92-e59f31a3ed10",
     "showTitle": false,
     "tableResultSettingsMap": {},
     "title": ""
    }
   },
   "outputs": [],
   "source": [
    "%sql\n",
    "-- Asumimos que un endpoint llamado 'vector-search-endpoint' ya ha sido creado.\n",
    "-- También nos aseguramos de estar en la base de datos correcta.\n",
    "USE curso_arquitecturas;"
   ]
  },
  {
   "cell_type": "markdown",
   "metadata": {
    "application/vnd.databricks.v1+cell": {
     "cellMetadata": {
      "byteLimit": 2048000,
      "rowLimit": 10000
     },
     "inputWidgets": {},
     "nuid": "b6c309ce-7b05-47c7-9c30-b0fda9ab3374",
     "showTitle": false,
     "tableResultSettingsMap": {},
     "title": ""
    }
   },
   "source": [
    "### Paso 1: Generar Embeddings Directamente con SQL\n",
    "\n",
    "Gracias a la función `ai_query`, podemos realizar la \"vectorización\" de nuestro texto en un solo paso de SQL, como parte de la creación de nuestra tabla `noticias_gold`. Este método es altamente optimizado y se ejecuta de forma distribuida en todo el clúster de Spark."
   ]
  },
  {
   "cell_type": "code",
   "execution_count": 0,
   "metadata": {
    "application/vnd.databricks.v1+cell": {
     "cellMetadata": {
      "byteLimit": 2048000,
      "implicitDf": true,
      "rowLimit": 10000
     },
     "inputWidgets": {},
     "nuid": "029faedc-029c-4c0e-8a05-0744158a4718",
     "showTitle": false,
     "tableResultSettingsMap": {},
     "title": ""
    }
   },
   "outputs": [],
   "source": [
    "%sql\n",
    "-- Creación de la Tabla Gold con Embeddings usando ai_query\n",
    "\n",
    "-- Este comando lee de la tabla silver, aplica el modelo de IA a la columna 'contenido',\n",
    "-- y guarda el resultado en una nueva tabla 'noticias_gold'.\n",
    "-- Es un ETL de IA en una sola consulta.\n",
    "\n",
    "CREATE OR REPLACE TABLE noticias_gold AS\n",
    "SELECT\n",
    "  *, -- Mantenemos todas las columnas originales de la tabla silver\n",
    "  ai_query(\n",
    "    'databricks-gte-large-en', -- El endpoint de embeddings que está activo en tu workspace\n",
    "    contenido\n",
    "  ) AS contenido_vector\n",
    "FROM noticias_silver\n",
    "LIMIT 100; -- Limitamos a 100 para que el taller sea rápido"
   ]
  },
  {
   "cell_type": "markdown",
   "metadata": {
    "application/vnd.databricks.v1+cell": {
     "cellMetadata": {},
     "inputWidgets": {},
     "nuid": "193398d1-15ce-4bf5-9893-12b7648b9662",
     "showTitle": false,
     "tableResultSettingsMap": {},
     "title": ""
    }
   },
   "source": [
    "### Paso 2: Verificar la Tabla Enriquecida\n",
    "\n",
    "Ahora que el trabajo pesado de IA se ha completado, verifiquemos que nuestra nueva tabla `noticias_gold` se haya creado correctamente y contenga la columna de vectores."
   ]
  },
  {
   "cell_type": "code",
   "execution_count": 0,
   "metadata": {
    "application/vnd.databricks.v1+cell": {
     "cellMetadata": {
      "byteLimit": 2048000,
      "implicitDf": true,
      "rowLimit": 10000
     },
     "inputWidgets": {},
     "nuid": "24f09a15-0de0-4499-9e9c-7dc0ef31e2e7",
     "showTitle": false,
     "tableResultSettingsMap": {},
     "title": ""
    }
   },
   "outputs": [],
   "source": [
    "%sql\n",
    "-- Inspeccionar la Tabla Gold\n",
    "-- La nueva columna 'contenido_vector' contiene el ADN semántico de cada noticia.\n",
    "DESCRIBE TABLE noticias_gold;"
   ]
  },
  {
   "cell_type": "code",
   "execution_count": 0,
   "metadata": {
    "application/vnd.databricks.v1+cell": {
     "cellMetadata": {
      "byteLimit": 2048000,
      "implicitDf": true,
      "rowLimit": 10000
     },
     "inputWidgets": {},
     "nuid": "b8394740-34d7-4a90-b3c9-40895add85a2",
     "showTitle": false,
     "tableResultSettingsMap": {},
     "title": ""
    }
   },
   "outputs": [],
   "source": [
    "%sql\n",
    "-- Ver un Vector de Ejemplo\n",
    "-- Así es como se ve un embedding: un array de números que captura el significado.\n",
    "SELECT titulo, slice(contenido_vector, 1, 10) as vector_preview FROM noticias_gold LIMIT 1;"
   ]
  },
  {
   "cell_type": "markdown",
   "metadata": {
    "application/vnd.databricks.v1+cell": {
     "cellMetadata": {},
     "inputWidgets": {},
     "nuid": "79464be1-3c8f-4292-a009-77aa98e2752f",
     "showTitle": false,
     "tableResultSettingsMap": {},
     "title": ""
    }
   },
   "source": [
    "### Paso 3: Crear una Función para Calcular la Similitud de Coseno\n",
    "\n",
    "Como no tenemos un índice, necesitamos una herramienta para comparar dos vectores. Crearemos una **Función Definida por el Usuario (UDF)** en SQL que implemente la fórmula matemática de la similitud de coseno."
   ]
  },
  {
   "cell_type": "code",
   "execution_count": 0,
   "metadata": {
    "application/vnd.databricks.v1+cell": {
     "cellMetadata": {
      "byteLimit": 2048000,
      "implicitDf": true,
      "rowLimit": 10000
     },
     "inputWidgets": {},
     "nuid": "48b4f8a7-4432-440d-a757-5d3f176f1ee1",
     "showTitle": false,
     "tableResultSettingsMap": {},
     "title": ""
    }
   },
   "outputs": [],
   "source": [
    "%sql\n",
    "-- Esta función toma dos vectores (arrays de floats) y devuelve un valor entre -1 y 1.\n",
    "-- Un valor más cercano a 1 significa mayor similitud.\n",
    "-- ¡ESTA ES LA VERSIÓN CORREGIDA!\n",
    "\n",
    "CREATE OR REPLACE FUNCTION cosine_similarity(v1 ARRAY<FLOAT>, v2 ARRAY<FLOAT>)\n",
    "RETURNS FLOAT\n",
    "RETURN (\n",
    "  SELECT\n",
    "    sum(element.v1 * element.v2) / (sqrt(sum(element.v1 * element.v1)) * sqrt(sum(element.v2 * element.v2)))\n",
    "  FROM\n",
    "    (SELECT explode(arrays_zip(v1, v2)) AS element)\n",
    ");"
   ]
  },
  {
   "cell_type": "markdown",
   "metadata": {
    "application/vnd.databricks.v1+cell": {
     "cellMetadata": {},
     "inputWidgets": {},
     "nuid": "3d96a2a1-a562-47f2-8dd3-4092fb4e3143",
     "showTitle": false,
     "tableResultSettingsMap": {},
     "title": ""
    }
   },
   "source": [
    "### Paso 4: Realizar la Búsqueda Semántica Manualmente\n",
    "\n",
    "Ahora, usaremos nuestra nueva función `cosine_similarity` para encontrar las noticias más relevantes.\n",
    "\n",
    "El proceso tiene dos pasos:\n",
    "1.  Obtener el vector de nuestra pregunta.\n",
    "2.  Usar ese vector para compararlo con todos los vectores en la tabla `noticias_gold`."
   ]
  },
  {
   "cell_type": "code",
   "execution_count": 0,
   "metadata": {
    "application/vnd.databricks.v1+cell": {
     "cellMetadata": {
      "byteLimit": 2048000,
      "implicitDf": true,
      "rowLimit": 10000
     },
     "inputWidgets": {},
     "nuid": "c4d5931c-2f79-48aa-931a-432a216600ed",
     "showTitle": false,
     "tableResultSettingsMap": {},
     "title": ""
    }
   },
   "outputs": [],
   "source": [
    "%sql\n",
    "-- Paso 4: Búsqueda Semántica Completa en SQL\n",
    "\n",
    "-- Esta única consulta realiza todo el proceso:\n",
    "-- 1. Define la pregunta y la convierte en un vector usando una CTE (el bloque 'WITH').\n",
    "-- 2. Compara ese vector con todos los vectores de las noticias en la tabla 'noticias_gold'.\n",
    "-- 3. Utiliza nuestra función 'cosine_similarity' para calcular la relevancia.\n",
    "-- 4. Ordena los resultados y devuelve los 4 más relevantes.\n",
    "\n",
    "WITH pregunta_vectorizada AS (\n",
    "  SELECT ai_query(\n",
    "    'databricks-gte-large-en',\n",
    "    'esfuerzos de las autoridades contra la delincuencia en Cúcuta'\n",
    "  ) AS query_vector\n",
    ")\n",
    "SELECT\n",
    "  n.titulo,\n",
    "  n.info,\n",
    "  n.enlace,\n",
    "  cosine_similarity(n.contenido_vector, p.query_vector) AS similitud\n",
    "FROM\n",
    "  curso_arquitecturas.noticias_gold AS n,\n",
    "  pregunta_vectorizada AS p\n",
    "ORDER BY\n",
    "  similitud DESC\n",
    "LIMIT 4;"
   ]
  },
  {
   "cell_type": "markdown",
   "metadata": {
    "application/vnd.databricks.v1+cell": {
     "cellMetadata": {},
     "inputWidgets": {},
     "nuid": "3f84c116-2a72-457a-b328-7442bb4f67f7",
     "showTitle": false,
     "tableResultSettingsMap": {},
     "title": ""
    }
   },
   "source": [
    "### Conclusión\n",
    "\n",
    "¡Felicidades! Has implementado un pipeline de IA completo utilizando las mejores prácticas en Databricks:\n",
    "\n",
    "1.  **Transformación a Escala:** Usaste **SQL con `ai_query`** para la generación masiva de embeddings.\n",
    "2.  **Gestión de Infraestructura:** Verificaste y creaste la infraestructura necesaria (el endpoint de Vector Search) mediante código.\n",
    "3.  **Búsqueda Inteligente:** Construiste y consultaste un índice vectorial para potenciar una aplicación de búsqueda semántica.\n",
    "\n",
    "Este flujo de trabajo es la base para construir sistemas de recomendación, chatbots (RAG) y otras aplicaciones de IA sobre tus propios datos."
   ]
  }
 ],
 "metadata": {
  "application/vnd.databricks.v1+notebook": {
   "computePreferences": {
    "hardware": {
     "accelerator": null,
     "gpuPoolId": null,
     "memory": null
    }
   },
   "dashboards": [],
   "environmentMetadata": {
    "base_environment": "",
    "dependencies": [
     "openai",
     "databricks-vectorsearch"
    ],
    "environment_version": "3"
   },
   "inputWidgetPreferences": null,
   "language": "python",
   "notebookMetadata": {
    "mostRecentlyExecutedCommandWithImplicitDF": {
     "commandId": 8735142320624317,
     "dataframes": [
      "_sqldf"
     ]
    },
    "pythonIndentUnit": 4
   },
   "notebookName": "Búsqueda Semántica con Vectores",
   "widgets": {}
  },
  "language_info": {
   "name": "python"
  }
 },
 "nbformat": 4,
 "nbformat_minor": 0
}
