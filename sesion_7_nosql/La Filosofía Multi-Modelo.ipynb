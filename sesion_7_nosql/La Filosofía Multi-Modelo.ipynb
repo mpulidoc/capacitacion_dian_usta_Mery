{
 "cells": [
  {
   "cell_type": "markdown",
   "metadata": {
    "application/vnd.databricks.v1+cell": {
     "cellMetadata": {
      "byteLimit": 2048000,
      "rowLimit": 10000
     },
     "inputWidgets": {},
     "nuid": "d7118b1b-b3fb-473f-b052-cceb5b904e89",
     "showTitle": false,
     "tableResultSettingsMap": {},
     "title": ""
    }
   },
   "source": [
    "# Sesión 7: Más Allá de lo Relacional - La Filosofía Multi-Modelo\n",
    "\n",
    "**Objetivo:** Comprender las limitaciones del modelo relacional estricto al enfrentarnos a datos complejos y semi-estructurados como las noticias. En este cuaderno, exploraremos la filosofía detrás de las bases de datos NoSQL y multi-modelo, usando Azure Cosmos DB como nuestro caso de estudio teórico, para justificar la necesidad de las arquitecturas que construiremos en Databricks.\n",
    "\n",
    "**Dataset:** `Noticias.csv`"
   ]
  },
  {
   "cell_type": "markdown",
   "metadata": {
    "application/vnd.databricks.v1+cell": {
     "cellMetadata": {
      "byteLimit": 2048000,
      "rowLimit": 10000
     },
     "inputWidgets": {},
     "nuid": "ff62a7ca-6646-4b76-9502-eeec2ec44b47",
     "showTitle": false,
     "tableResultSettingsMap": {},
     "title": ""
    }
   },
   "source": [
    "## El Anti-Patrón - Intentando Forzar un Modelo Relacional\n",
    "\n",
    "Imaginemos que queremos almacenar nuestro dataset de noticias en una base de datos relacional tradicional, siguiendo las reglas de normalización (3NF). Para evitar la redundancia y mantener la integridad, tendríamos que crear un esquema complejo y fragmentado.\n",
    "\n",
    "Necesitaríamos, como mínimo, las siguientes tablas:\n",
    "* **`noticias`**: Contendría el ID, título, enlace y contenido principal.\n",
    "* **`etiquetas`**: Una tabla para los tipos de noticias (Justicia, Deportes, etc.).\n",
    "* **`noticia_etiqueta`**: Una tabla de unión para vincular una noticia con su etiqueta.\n",
    "* **`entidades`**: Una tabla para almacenar cada persona, organización o lugar único mencionado.\n",
    "* **`noticia_entidad`**: Otra tabla de unión para registrar qué entidades aparecen en qué noticias.\n",
    "\n",
    "El resultado es que la información de **una sola noticia** queda esparcida por al menos 5 tablas diferentes."
   ]
  },
  {
   "cell_type": "code",
   "execution_count": 0,
   "metadata": {
    "application/vnd.databricks.v1+cell": {
     "cellMetadata": {
      "byteLimit": 2048000,
      "rowLimit": 10000
     },
     "inputWidgets": {},
     "nuid": "f9cf72f5-82fe-4114-a49f-9359aee164ff",
     "showTitle": false,
     "tableResultSettingsMap": {},
     "title": ""
    }
   },
   "outputs": [],
   "source": [
    "# A continuación, un ejemplo conceptual de la consulta SQL que necesitaríamos\n",
    "# para reconstruir la información completa de UNA SOLA noticia.\n",
    "\n",
    "# (Este código es una simulación para ilustrar el punto, no para ser ejecutado)\n",
    "\n",
    "hypothetical_sql_query = \"\"\"\n",
    "SELECT\n",
    "  n.titulo,\n",
    "  n.contenido,\n",
    "  e.nombre_etiqueta,\n",
    "  ent.nombre_entidad,\n",
    "  ent.tipo_entidad\n",
    "FROM noticias AS n\n",
    "JOIN noticia_etiqueta AS ne ON n.id_noticia = ne.id_noticia\n",
    "JOIN etiquetas AS e ON ne.id_etiqueta = e.id_etiqueta\n",
    "JOIN noticia_entidad AS n_ent ON n.id_noticia = n_ent.id_noticia\n",
    "JOIN entidades AS ent ON n_ent.id_entidad = ent.id_entidad\n",
    "WHERE n.id_noticia = 'CMS-5171887';\n",
    "\"\"\"\n",
    "\n",
    "print(\"--- Consulta SQL para obtener una noticia completa ---\")\n",
    "print(hypothetical_sql_query)\n",
    "print(\"\\n# Observación: Se necesitan 4 JOINs solo para obtener la información básica.\")\n",
    "print(\"# ¿Y si quisiéramos todas las noticias de una entidad? La complejidad aumenta.\")"
   ]
  },
  {
   "cell_type": "markdown",
   "metadata": {
    "application/vnd.databricks.v1+cell": {
     "cellMetadata": {
      "byteLimit": 2048000,
      "rowLimit": 10000
     },
     "inputWidgets": {},
     "nuid": "0f2ada36-8cdb-43c5-af4f-8dcb41813b3c",
     "showTitle": false,
     "tableResultSettingsMap": {},
     "title": ""
    }
   },
   "source": [
    "## La Filosofía de Cosmos DB - \"El Modelo Correcto para el Trabajo Correcto\"\n",
    "\n",
    "El problema anterior no significa que el modelo relacional sea malo; significa que no es la herramienta óptima para **este tipo de datos**.\n",
    "\n",
    "Azure Cosmos DB introduce una filosofía diferente: **ser multi-modelo**. En lugar de forzar los datos a una estructura de tablas, nos ofrece diferentes \"APIs\" o \"personalidades\" para que elijamos la que mejor se adapte a nuestro problema.\n",
    "\n",
    "* **¿Tus datos se parecen a un documento JSON?** Usa la API for NoSQL.\n",
    "* **¿Tus datos son una red de conexiones?** Usa la API for Gremlin (Grafos).\n",
    "* **¿Son datos de series temporales?** Podrías usar la API para Cassandra (Columnar).\n",
    "\n",
    "La lección clave es: **el diseño de la base de datos debe seguir la forma de los datos, y no al revés.**"
   ]
  },
  {
   "cell_type": "markdown",
   "metadata": {
    "application/vnd.databricks.v1+cell": {
     "cellMetadata": {
      "byteLimit": 2048000,
      "rowLimit": 10000
     },
     "inputWidgets": {},
     "nuid": "e50b7777-5c54-4754-9181-e8996efadade",
     "showTitle": false,
     "tableResultSettingsMap": {},
     "title": ""
    }
   },
   "source": [
    "## Profundizando en el Modelo de Documentos\n",
    "\n",
    "El modelo más intuitivo para nuestras noticias es el **documento**. La idea es simple: toda la información relevante a una sola noticia se almacena junta en una única estructura flexible, similar a un JSON.\n",
    "\n",
    "**Ventajas:**\n",
    "1.  **Rendimiento de Lectura:** Para obtener una noticia, se realiza una sola operación de lectura. No hay `JOINs`. Esto es órdenes de magnitud más rápido.\n",
    "2.  **Flexibilidad de Esquema:** Si una noticia tiene un campo adicional (ej. `subtitulo`) y otra no, no hay problema. No hay que alterar una tabla rígida.\n",
    "3.  **Alineación con el Desarrollo:** Los desarrolladores de aplicaciones suelen trabajar con objetos (JSON). Un modelo de documentos elimina la fricción de tener que \"traducir\" entre objetos y tablas relacionales."
   ]
  },
  {
   "cell_type": "code",
   "execution_count": 0,
   "metadata": {
    "application/vnd.databricks.v1+cell": {
     "cellMetadata": {
      "byteLimit": 2048000,
      "rowLimit": 10000
     },
     "inputWidgets": {},
     "nuid": "28cae76d-d3b4-4436-9dd5-283fb4a001c6",
     "showTitle": false,
     "tableResultSettingsMap": {},
     "title": ""
    }
   },
   "outputs": [],
   "source": [
    "import pandas as pd\n",
    "\n",
    "# Ruta del archivo en Databricks Volumes\n",
    "file_path = \"/Volumes/sesion_5/bronze/raw_files/Noticias.xlsx\"\n",
    "\n",
    "# pandas\n",
    "df_noticias = pd.read_excel(file_path)\n"
   ]
  },
  {
   "cell_type": "code",
   "execution_count": 0,
   "metadata": {
    "application/vnd.databricks.v1+cell": {
     "cellMetadata": {
      "byteLimit": 2048000,
      "rowLimit": 10000
     },
     "inputWidgets": {},
     "nuid": "96b4a729-9e60-4d10-9ecf-e1776d65fba0",
     "showTitle": false,
     "tableResultSettingsMap": {},
     "title": ""
    }
   },
   "outputs": [],
   "source": [
    "import csv \n",
    "df_noticias.to_csv('Noticias.csv', index=False, quoting=csv.QUOTE_ALL)\n"
   ]
  },
  {
   "cell_type": "code",
   "execution_count": 0,
   "metadata": {
    "application/vnd.databricks.v1+cell": {
     "cellMetadata": {
      "byteLimit": 2048000,
      "rowLimit": 10000
     },
     "inputWidgets": {},
     "nuid": "dc29290a-b052-4a11-95ef-0913d8e1710c",
     "showTitle": false,
     "tableResultSettingsMap": {},
     "title": ""
    }
   },
   "outputs": [],
   "source": [
    "## Visualizando una Noticia como un Documento (Versión Corregida para Databricks)\n",
    "\n",
    "# Vamos a leer nuestro CSV desde el volumen de Databricks usando PySpark\n",
    "# y a convertir la primera fila en un diccionario para simular cómo se vería\n",
    "# un documento JSON en Cosmos DB o MongoDB.\n",
    "\n",
    "import json\n",
    "\n",
    "# Ruta del archivo en Databricks Volumes\n",
    "file_path = \"/Volumes/sesion_5/bronze/raw_files/Noticias.csv\"\n",
    "\n",
    "# Leemos el CSV usando el lector nativo de Spark.\n",
    "# - \"header=True\" le dice a Spark que la primera fila es el encabezado.\n",
    "# - \"inferSchema=True\" intenta adivinar los tipos de datos de cada columna.\n",
    "df_noticias = spark.read.csv(file_path, header=True, inferSchema=True)\n",
    "\n",
    "# Tomamos la primera fila del DataFrame de Spark.\n",
    "# .first() devuelve un objeto Row.\n",
    "primera_noticia_row = df_noticias.first()\n",
    "\n",
    "# Convertimos el objeto Row a un diccionario de Python.\n",
    "primera_noticia_dict = primera_noticia_row.asDict()\n",
    "\n",
    "# Convertimos el diccionario a una cadena JSON con formato para mejor lectura.\n",
    "primera_noticia_json = json.dumps(primera_noticia_dict, indent=4, ensure_ascii=False)\n",
    "\n",
    "print(\"--- Una fila del CSV representada como un Documento JSON ---\")\n",
    "print(primera_noticia_json)"
   ]
  },
  {
   "cell_type": "markdown",
   "metadata": {
    "application/vnd.databricks.v1+cell": {
     "cellMetadata": {
      "byteLimit": 2048000,
      "rowLimit": 10000
     },
     "inputWidgets": {},
     "nuid": "065c8187-6235-4cd1-923d-419ef561be63",
     "showTitle": false,
     "tableResultSettingsMap": {},
     "title": ""
    }
   },
   "source": [
    "## Profundizando en el Modelo de Grafos\n",
    "\n",
    "¿Y si nuestra pregunta no es sobre el contenido de *una* noticia, sino sobre las **conexiones ocultas *entre* las noticias**?\n",
    "\n",
    "* *\"¿Qué políticos han opinado sobre las actividades de la empresa X en los últimos 3 meses?\"*\n",
    "* *\"Muéstrame la red de colaboración entre la 'Sijín' y el 'Gaula' según los operativos reportados.\"*\n",
    "\n",
    "Responder a estas preguntas con SQL requeriría `JOINs` recursivos y sería extremadamente lento e ineficiente. El **modelo de grafos** está diseñado específicamente para esto. Se enfoca en dos cosas: **entidades (nodos)** y las **relaciones (aristas)** que las conectan."
   ]
  },
  {
   "cell_type": "code",
   "execution_count": 0,
   "metadata": {
    "application/vnd.databricks.v1+cell": {
     "cellMetadata": {
      "byteLimit": 2048000,
      "rowLimit": 10000
     },
     "inputWidgets": {},
     "nuid": "9221cc47-7327-42f8-b035-8dbd1034b0d8",
     "showTitle": false,
     "tableResultSettingsMap": {},
     "title": ""
    }
   },
   "outputs": [],
   "source": [
    "# Conceptualizando el Grafo de Noticias\n",
    "\n",
    "# Imaginemos que extraemos las entidades de la primera noticia.\n",
    "# No necesitamos código complejo de NLP ahora, solo entender la lógica.\n",
    "\n",
    "contenido = primera_noticia_dict['contenido']\n",
    "\n",
    "# Entidades (Nodos) que podríamos extraer:\n",
    "nodos = [\n",
    "    {\"id\": 1, \"label\": \"Coronel Jorge Iván Flórez\", \"tipo\": \"Persona\"},\n",
    "    {\"id\": 2, \"label\": \"Policía Metropolitana de Cúcuta\", \"tipo\": \"Organización\"},\n",
    "    {\"id\": 3, \"label\": \"Los Patios\", \"tipo\": \"Lugar\"},\n",
    "    {\"id\": 4, \"label\": \"Sijín\", \"tipo\": \"Organización\"},\n",
    "    {\"id\": 5, \"label\": \"Gaula\", \"tipo\": \"Organización\"}\n",
    "]\n",
    "\n",
    "# Relaciones (Aristas) que podríamos inferir:\n",
    "aristas = [\n",
    "    {\"source\": 1, \"target\": 2, \"label\": \"ES_COMANDANTE_DE\"},\n",
    "    {\"source\": 2, \"target\": 3, \"label\": \"REALIZÓ_OPERATIVO_EN\"},\n",
    "    {\"source\": 4, \"target\": 2, \"label\": \"ES_PARTE_DE\"},\n",
    "    {\"source\": 5, \"target\": 2, \"label\": \"ES_PARTE_DE\"}\n",
    "]\n",
    "\n",
    "print(\"--- Nodos Extraídos ---\")\n",
    "for nodo in nodos:\n",
    "    print(nodo)\n",
    "\n",
    "print(\"\\n--- Aristas Inferidas ---\")\n",
    "for arista in aristas:\n",
    "    print(arista)"
   ]
  },
  {
   "cell_type": "markdown",
   "metadata": {
    "application/vnd.databricks.v1+cell": {
     "cellMetadata": {
      "byteLimit": 2048000,
      "rowLimit": 10000
     },
     "inputWidgets": {},
     "nuid": "3a671ddf-3330-446d-8cf6-5dd37347fc74",
     "showTitle": false,
     "tableResultSettingsMap": {},
     "title": ""
    }
   },
   "source": [
    "## Un Avance del Futuro - El Modelo Vectorial\n",
    "\n",
    "Hasta ahora, hemos hablado de la estructura (documentos) y las entidades explícitas (grafos). Pero, ¿qué hay del **significado** o la **semántica** del contenido?\n",
    "\n",
    "* ¿Cómo encontramos noticias que hablen de \"inestabilidad económica\" si no usan esas palabras exactas, sino que hablan de \"inflación\", \"desempleo\" y \"devaluación\"?\n",
    "\n",
    "Aquí es donde entra el **modelo vectorial**, la base de la IA generativa y la búsqueda semántica. La idea es convertir cada `contenido` de noticia en un vector numérico (un \"embedding\") que represente su significado.\n",
    "\n",
    "Hablaremos de esto en detalle más adelante, pero es el tercer pilar de una arquitectura de datos moderna para contenido no estructurado."
   ]
  },
  {
   "cell_type": "markdown",
   "metadata": {
    "application/vnd.databricks.v1+cell": {
     "cellMetadata": {
      "byteLimit": 2048000,
      "rowLimit": 10000
     },
     "inputWidgets": {},
     "nuid": "8801c56c-aa5e-4874-8f20-6af7086e4c2e",
     "showTitle": false,
     "tableResultSettingsMap": {},
     "title": ""
    }
   },
   "source": [
    "## Conclusión y Nuestro Camino en Databricks\n",
    "\n",
    "Hemos establecido la filosofía: para datos complejos como las noticias, un solo modelo (el relacional) no es suficiente. Necesitamos una caja de herramientas más grande.\n",
    "\n",
    "En las próximas secciones de este taller, tomaremos esta filosofía multi-modelo y la implementaremos de manera práctica y a gran escala, no en Cosmos DB, sino utilizando el poder unificado de **Databricks**:\n",
    "\n",
    "1.  **Implementaremos el Modelo de Documentos** usando tablas Delta con columnas `STRUCT`.\n",
    "2.  **Construiremos y analizaremos un Grafo de Conocimiento** con PySpark y GraphFrames.\n",
    "3.  **Crearemos un motor de Búsqueda Semántica** generando embeddings y usando Databricks Vector Search.\n",
    "\n",
    "¡Manos a la obra!"
   ]
  }
 ],
 "metadata": {
  "application/vnd.databricks.v1+notebook": {
   "computePreferences": {
    "hardware": {
     "accelerator": null,
     "gpuPoolId": null,
     "memory": null
    }
   },
   "dashboards": [],
   "environmentMetadata": {
    "base_environment": "",
    "dependencies": [
     "openpyxl"
    ],
    "environment_version": "3"
   },
   "inputWidgetPreferences": null,
   "language": "python",
   "notebookMetadata": {
    "pythonIndentUnit": 4
   },
   "notebookName": "La Filosofía Multi-Modelo",
   "widgets": {}
  },
  "language_info": {
   "name": "python"
  }
 },
 "nbformat": 4,
 "nbformat_minor": 0
}
